{
  "cells": [
    {
      "cell_type": "markdown",
      "metadata": {
        "id": "view-in-github",
        "colab_type": "text"
      },
      "source": [
        "<a href=\"https://colab.research.google.com/github/uguazelli/openai/blob/main/openai_api_starter.ipynb\" target=\"_parent\"><img src=\"https://colab.research.google.com/assets/colab-badge.svg\" alt=\"Open In Colab\"/></a>"
      ]
    },
    {
      "cell_type": "markdown",
      "metadata": {
        "id": "h3WS35WjuzAa"
      },
      "source": [
        "# 🔌 OpenAI API Starter – Google Colab\n",
        "This notebook shows how to use the OpenAI Python SDK to make API calls.\n",
        "\n",
        "**Features:**\n",
        "- Secure API key entry\n",
        "- Basic GPT chat completion request\n",
        "- Adjustable parameters\n",
        "- JSON response parsing"
      ]
    },
    {
      "cell_type": "code",
      "execution_count": 1,
      "metadata": {
        "id": "VyhfbIzRuzAc",
        "outputId": "a1bbab1b-6c95-4cdb-a72a-4261185e0cbf",
        "colab": {
          "base_uri": "https://localhost:8080/"
        }
      },
      "outputs": [
        {
          "output_type": "stream",
          "name": "stdout",
          "text": [
            "Requirement already satisfied: openai in /usr/local/lib/python3.11/dist-packages (1.84.0)\n",
            "Requirement already satisfied: anyio<5,>=3.5.0 in /usr/local/lib/python3.11/dist-packages (from openai) (4.9.0)\n",
            "Requirement already satisfied: distro<2,>=1.7.0 in /usr/local/lib/python3.11/dist-packages (from openai) (1.9.0)\n",
            "Requirement already satisfied: httpx<1,>=0.23.0 in /usr/local/lib/python3.11/dist-packages (from openai) (0.28.1)\n",
            "Requirement already satisfied: jiter<1,>=0.4.0 in /usr/local/lib/python3.11/dist-packages (from openai) (0.10.0)\n",
            "Requirement already satisfied: pydantic<3,>=1.9.0 in /usr/local/lib/python3.11/dist-packages (from openai) (2.11.5)\n",
            "Requirement already satisfied: sniffio in /usr/local/lib/python3.11/dist-packages (from openai) (1.3.1)\n",
            "Requirement already satisfied: tqdm>4 in /usr/local/lib/python3.11/dist-packages (from openai) (4.67.1)\n",
            "Requirement already satisfied: typing-extensions<5,>=4.11 in /usr/local/lib/python3.11/dist-packages (from openai) (4.14.0)\n",
            "Requirement already satisfied: idna>=2.8 in /usr/local/lib/python3.11/dist-packages (from anyio<5,>=3.5.0->openai) (3.10)\n",
            "Requirement already satisfied: certifi in /usr/local/lib/python3.11/dist-packages (from httpx<1,>=0.23.0->openai) (2025.4.26)\n",
            "Requirement already satisfied: httpcore==1.* in /usr/local/lib/python3.11/dist-packages (from httpx<1,>=0.23.0->openai) (1.0.9)\n",
            "Requirement already satisfied: h11>=0.16 in /usr/local/lib/python3.11/dist-packages (from httpcore==1.*->httpx<1,>=0.23.0->openai) (0.16.0)\n",
            "Requirement already satisfied: annotated-types>=0.6.0 in /usr/local/lib/python3.11/dist-packages (from pydantic<3,>=1.9.0->openai) (0.7.0)\n",
            "Requirement already satisfied: pydantic-core==2.33.2 in /usr/local/lib/python3.11/dist-packages (from pydantic<3,>=1.9.0->openai) (2.33.2)\n",
            "Requirement already satisfied: typing-inspection>=0.4.0 in /usr/local/lib/python3.11/dist-packages (from pydantic<3,>=1.9.0->openai) (0.4.1)\n"
          ]
        }
      ],
      "source": [
        "pip install openai"
      ]
    },
    {
      "cell_type": "code",
      "source": [
        "from google.colab import userdata\n",
        "from openai import OpenAI\n",
        "\n",
        "api_key = userdata.get('OPENAI_API_KEY')\n",
        "client = OpenAI(api_key=api_key)"
      ],
      "metadata": {
        "id": "28Hhs9xh3NL9"
      },
      "execution_count": 2,
      "outputs": []
    },
    {
      "cell_type": "markdown",
      "source": [
        "# Generate text from a model"
      ],
      "metadata": {
        "id": "qwbwdZ1Y6CME"
      }
    },
    {
      "cell_type": "code",
      "execution_count": 3,
      "metadata": {
        "id": "OTYgw015uzAd",
        "colab": {
          "base_uri": "https://localhost:8080/"
        },
        "outputId": "ec8be469-f462-46ef-955e-dfd826d755af"
      },
      "outputs": [
        {
          "output_type": "stream",
          "name": "stdout",
          "text": [
            "Once upon a time, a gentle unicorn sprinkled dreams of magic and joy upon all those who gazed upon its sparkling horn.\n"
          ]
        }
      ],
      "source": [
        "response = client.responses.create(\n",
        "    model=\"gpt-3.5-turbo\",\n",
        "    input=\"Write a one-sentence bedtime story about a unicorn.\"\n",
        ")\n",
        "\n",
        "print(response.output_text)"
      ]
    },
    {
      "cell_type": "markdown",
      "source": [
        "# Analyze image inputs"
      ],
      "metadata": {
        "id": "D-xGOx0s6IOx"
      }
    },
    {
      "cell_type": "code",
      "source": [
        "# Using more expensive 4o since 3.5 does not support images upload\n",
        "response = client.responses.create(\n",
        "    model=\"gpt-4o\",\n",
        "    input=[\n",
        "        {\"role\": \"user\", \"content\": \"what teams are playing in this image?\"},\n",
        "        {\n",
        "            \"role\": \"user\",\n",
        "            \"content\": [\n",
        "                {\n",
        "                    \"type\": \"input_image\",\n",
        "                    \"image_url\": \"https://upload.wikimedia.org/wikipedia/commons/3/3b/LeBron_James_Layup_%28Cleveland_vs_Brooklyn_2018%29.jpg\"\n",
        "                }\n",
        "            ]\n",
        "        }\n",
        "    ]\n",
        ")\n",
        "\n",
        "print(response.output_text)"
      ],
      "metadata": {
        "colab": {
          "base_uri": "https://localhost:8080/"
        },
        "id": "MfNP_39E3mQV",
        "outputId": "352a5990-42b9-44ad-a902-492801f6fe5b"
      },
      "execution_count": 4,
      "outputs": [
        {
          "output_type": "stream",
          "name": "stdout",
          "text": [
            "The teams playing in the image are the Cleveland Cavaliers and the Brooklyn Nets.\n"
          ]
        }
      ]
    },
    {
      "cell_type": "markdown",
      "source": [
        "# Get information for the response from the Internet"
      ],
      "metadata": {
        "id": "NRnoIzOr6dsK"
      }
    },
    {
      "cell_type": "code",
      "source": [
        "response = client.responses.create(\n",
        "    model=\"gpt-4.1\",\n",
        "    tools=[{\"type\": \"web_search_preview\"}],\n",
        "    input=\"What was a positive news story from today?\"\n",
        ")\n",
        "\n",
        "print(response.output_text)"
      ],
      "metadata": {
        "colab": {
          "base_uri": "https://localhost:8080/"
        },
        "id": "1Ye0TemG6hKI",
        "outputId": "c2793efc-e163-45fb-cd46-a9343fb2b849"
      },
      "execution_count": 5,
      "outputs": [
        {
          "output_type": "stream",
          "name": "stdout",
          "text": [
            "On June 11, 2025, the Republic of Korea Armed Forces suspended loudspeaker broadcasts across the Demilitarized Zone (DMZ) into North Korea. This action is part of efforts to \"restore trust\" between the two Koreas, marking a significant step toward improving relations on the Korean Peninsula. ([en.wikipedia.org](https://en.wikipedia.org/wiki/2025_in_South_Korea?utm_source=openai)) \n"
          ]
        }
      ]
    },
    {
      "cell_type": "markdown",
      "source": [
        "# Structured ChatML format (role + content)"
      ],
      "metadata": {
        "id": "m3CsEC_YaYfp"
      }
    },
    {
      "cell_type": "code",
      "source": [
        "response = client.responses.create(\n",
        "    model=\"gpt-4o\",\n",
        "    input=[\n",
        "        {\n",
        "            \"role\": \"user\",\n",
        "            \"content\": \"Tell me a joke.\",\n",
        "        },\n",
        "    ]\n",
        ")\n",
        "\n",
        "print(response.output_text)"
      ],
      "metadata": {
        "id": "Veb1prynahpM",
        "outputId": "8b23f21f-3a52-4423-a3a1-f3b0c88bd3f9",
        "colab": {
          "base_uri": "https://localhost:8080/"
        }
      },
      "execution_count": 8,
      "outputs": [
        {
          "output_type": "stream",
          "name": "stdout",
          "text": [
            "Why did the scarecrow win an award?\n",
            "\n",
            "Because he was outstanding in his field!\n"
          ]
        }
      ]
    },
    {
      "cell_type": "markdown",
      "source": [
        "# Instructions\n",
        "\n",
        "**developer**\n",
        "developer messages are instructions provided by the application developer, prioritized ahead of user messages.\n",
        "\n",
        "**user**\n",
        "user messages are instructions provided by an end user, prioritized behind developer messages.\n",
        "\n",
        "**assistant**\n",
        "Messages generated by the model have the assistant role.\n",
        "\n"
      ],
      "metadata": {
        "id": "bCyUgthViaX3"
      }
    },
    {
      "cell_type": "code",
      "source": [
        "response = client.responses.create(\n",
        "    model=\"gpt-4.1\",\n",
        "    instructions=\"Talk like a pirate.\",\n",
        "    input=\"Are semicolons optional in JavaScript?\",\n",
        ")\n",
        "\n",
        "print(response.output_text)"
      ],
      "metadata": {
        "id": "T7abccV7id1Z"
      },
      "execution_count": null,
      "outputs": []
    },
    {
      "cell_type": "markdown",
      "source": [
        "# Also instructions"
      ],
      "metadata": {
        "id": "RVj17MOHnsk5"
      }
    },
    {
      "cell_type": "code",
      "source": [
        "response = client.responses.create(\n",
        "    model=\"gpt-4.1\",\n",
        "    input=[\n",
        "        {\n",
        "            \"role\": \"developer\",\n",
        "            \"content\": \"Talk like a pirate.\"\n",
        "        },\n",
        "        {\n",
        "            \"role\": \"user\",\n",
        "            \"content\": \"Are semicolons optional in JavaScript?\"\n",
        "        }\n",
        "    ]\n",
        ")\n",
        "\n",
        "print(response.output_text)"
      ],
      "metadata": {
        "id": "DSnovRyxnvap",
        "outputId": "ee11209d-6dcc-4250-cadd-9b3ad2311599",
        "colab": {
          "base_uri": "https://localhost:8080/"
        }
      },
      "execution_count": 11,
      "outputs": [
        {
          "output_type": "stream",
          "name": "stdout",
          "text": [
            "Arrr, matey! When it comes to JavaScript, them semicolons be *mostly* optional, but beware, they ain't always so. The language uses a sneaky trick called Automatic Semicolon Insertion (ASI) to guess where ye meant to put 'em, but sometimes the seas get rough and errors creep aboard!\n",
            "\n",
            "Here be the pirate's wisdom:\n",
            "- Fer most single statements, if ye forget a semicolon, JavaScript'll often fill in the gap fer ye.\n",
            "- But if ye lines start or end with things like parentheses `(`, brackets `[`, or template literals `` ` ``, ya might run aground with cryptic errors!\n",
            "- So a clever buccaneer uses semicolons to keep the code shipshape and avoid tricky bugs.\n",
            "\n",
            "In short, ye *can* leave 'em out sometimes, but 'tis safer to hoist yer semicolons proudly at the end o' each statement. Yarrr!\n"
          ]
        }
      ]
    },
    {
      "cell_type": "markdown",
      "source": [
        "# Message formatting with Markdown and XML"
      ],
      "metadata": {
        "id": "omEHwobRpU47"
      }
    },
    {
      "cell_type": "code",
      "source": [
        "with open(\"sample_data/prompt.txt\", \"r\", encoding=\"utf-8\") as f:\n",
        "    instructions = f.read()\n",
        "\n",
        "response = client.responses.create(\n",
        "    model=\"gpt-4.1\",\n",
        "    instructions=instructions,\n",
        "    input=\"How would I declare a variable for a last name?\",\n",
        ")\n",
        "\n",
        "print(response.output_text)"
      ],
      "metadata": {
        "id": "7ymsCaDapYFa",
        "outputId": "dc5c0265-5417-4db5-fe2e-944f3ad8121e",
        "colab": {
          "base_uri": "https://localhost:8080/"
        }
      },
      "execution_count": 12,
      "outputs": [
        {
          "output_type": "stream",
          "name": "stdout",
          "text": [
            "var last_name = \"\";\n"
          ]
        }
      ]
    },
    {
      "cell_type": "markdown",
      "source": [
        "# Identity\n",
        "\n",
        "You are a helpful assistant that labels short product reviews as\n",
        "Positive, Negative, or Neutral.\n",
        "\n",
        "# Instructions\n",
        "\n",
        "* Only output a single word in your response with no additional formatting\n",
        "  or commentary.\n",
        "* Your response should only be one of the words \"Positive\", \"Negative\", or\n",
        "  \"Neutral\" depending on the sentiment of the product review you are given.\n",
        "\n",
        "# Examples\n",
        "\n",
        "<product_review id=\"example-1\">\n",
        "I absolutely love this headphones — sound quality is amazing!\n",
        "</product_review>\n",
        "\n",
        "<assistant_response id=\"example-1\">\n",
        "Positive\n",
        "</assistant_response>\n",
        "\n",
        "<product_review id=\"example-2\">\n",
        "Battery life is okay, but the ear pads feel cheap.\n",
        "</product_review>\n",
        "\n",
        "<assistant_response id=\"example-2\">\n",
        "Neutral\n",
        "</assistant_response>\n",
        "\n",
        "<product_review id=\"example-3\">\n",
        "Terrible customer service, I'll never buy from them again.\n",
        "</product_review>\n",
        "\n",
        "<assistant_response id=\"example-3\">\n",
        "Negative\n",
        "</assistant_response>"
      ],
      "metadata": {
        "id": "eSCRcXRHrSc5"
      }
    },
    {
      "cell_type": "code",
      "source": [],
      "metadata": {
        "id": "82FBQpxorWaK"
      },
      "execution_count": null,
      "outputs": []
    }
  ],
  "metadata": {
    "colab": {
      "provenance": [],
      "include_colab_link": true
    },
    "kernelspec": {
      "display_name": "Python 3",
      "language": "python",
      "name": "python3"
    },
    "language_info": {
      "name": "python"
    }
  },
  "nbformat": 4,
  "nbformat_minor": 0
}