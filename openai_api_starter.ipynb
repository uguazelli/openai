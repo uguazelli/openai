{
  "cells": [
    {
      "cell_type": "markdown",
      "metadata": {
        "id": "view-in-github",
        "colab_type": "text"
      },
      "source": [
        "<a href=\"https://colab.research.google.com/github/uguazelli/openai/blob/main/openai_api_starter.ipynb\" target=\"_parent\"><img src=\"https://colab.research.google.com/assets/colab-badge.svg\" alt=\"Open In Colab\"/></a>"
      ]
    },
    {
      "cell_type": "markdown",
      "metadata": {
        "id": "h3WS35WjuzAa"
      },
      "source": [
        "# 🔌 OpenAI API Starter – Google Colab\n",
        "This notebook shows how to use the OpenAI Python SDK to make API calls.\n",
        "\n",
        "**Features:**\n",
        "- Secure API key entry\n",
        "- Basic GPT chat completion request\n",
        "- Adjustable parameters\n",
        "- JSON response parsing"
      ]
    },
    {
      "cell_type": "code",
      "execution_count": null,
      "metadata": {
        "id": "VyhfbIzRuzAc"
      },
      "outputs": [],
      "source": [
        "pip install openai"
      ]
    },
    {
      "cell_type": "code",
      "source": [
        "from google.colab import userdata\n",
        "from openai import OpenAI"
      ],
      "metadata": {
        "id": "28Hhs9xh3NL9"
      },
      "execution_count": null,
      "outputs": []
    },
    {
      "cell_type": "markdown",
      "source": [
        "# Generate text from a model"
      ],
      "metadata": {
        "id": "qwbwdZ1Y6CME"
      }
    },
    {
      "cell_type": "code",
      "execution_count": null,
      "metadata": {
        "id": "OTYgw015uzAd"
      },
      "outputs": [],
      "source": [
        "\n",
        "api_key = userdata.get('OPENAI_API_KEY')\n",
        "client = OpenAI(api_key=api_key)\n",
        "\n",
        "response = client.responses.create(\n",
        "    model=\"gpt-3.5-turbo\",\n",
        "    input=\"Write a one-sentence bedtime story about a unicorn.\"\n",
        ")\n",
        "\n",
        "print(response.output_text)"
      ]
    },
    {
      "cell_type": "markdown",
      "source": [
        "# Analyze image inputs"
      ],
      "metadata": {
        "id": "D-xGOx0s6IOx"
      }
    },
    {
      "cell_type": "code",
      "source": [
        "# Using more expensive 4o since 3.5 does not support images upload\n",
        "response = client.responses.create(\n",
        "    model=\"gpt-4o\",\n",
        "    input=[\n",
        "        {\"role\": \"user\", \"content\": \"what teams are playing in this image?\"},\n",
        "        {\n",
        "            \"role\": \"user\",\n",
        "            \"content\": [\n",
        "                {\n",
        "                    \"type\": \"input_image\",\n",
        "                    \"image_url\": \"https://upload.wikimedia.org/wikipedia/commons/3/3b/LeBron_James_Layup_%28Cleveland_vs_Brooklyn_2018%29.jpg\"\n",
        "                }\n",
        "            ]\n",
        "        }\n",
        "    ]\n",
        ")\n",
        "\n",
        "print(response.output_text)"
      ],
      "metadata": {
        "colab": {
          "base_uri": "https://localhost:8080/"
        },
        "id": "MfNP_39E3mQV",
        "outputId": "5ccd2972-9a4c-4bbd-aa72-d08ecf0131a6"
      },
      "execution_count": null,
      "outputs": [
        {
          "output_type": "stream",
          "name": "stdout",
          "text": [
            "The teams playing in the image are the Cleveland Cavaliers and the Brooklyn Nets.\n"
          ]
        }
      ]
    },
    {
      "cell_type": "markdown",
      "source": [
        "# Get information for the response from the Internet"
      ],
      "metadata": {
        "id": "NRnoIzOr6dsK"
      }
    },
    {
      "cell_type": "code",
      "source": [
        "response = client.responses.create(\n",
        "    model=\"gpt-4.1\",\n",
        "    tools=[{\"type\": \"web_search_preview\"}],\n",
        "    input=\"What was a positive news story from today?\"\n",
        ")\n",
        "\n",
        "print(response.output_text)"
      ],
      "metadata": {
        "colab": {
          "base_uri": "https://localhost:8080/"
        },
        "id": "1Ye0TemG6hKI",
        "outputId": "1fb8536a-8ab4-4b17-96ad-d395a3692c36"
      },
      "execution_count": null,
      "outputs": [
        {
          "output_type": "stream",
          "name": "stdout",
          "text": [
            "As of June 11, 2025, one notable positive news story is the successful reintroduction of beavers to England. After being hunted to extinction around 400 years ago, beavers are now set to return, bringing numerous ecological benefits. Ecologists highlight that beavers boost biodiversity and help mitigate flooding. Tony Juniper, chair of Natural England, described their return as a “significant landmark for nature recovery in England.” ([positive.news](https://www.positive.news/society/good-news-stories-from-week-09-of-2025/?utm_source=openai)) \n"
          ]
        }
      ]
    }
  ],
  "metadata": {
    "colab": {
      "provenance": [],
      "include_colab_link": true
    },
    "kernelspec": {
      "display_name": "Python 3",
      "language": "python",
      "name": "python3"
    },
    "language_info": {
      "name": "python"
    }
  },
  "nbformat": 4,
  "nbformat_minor": 0
}